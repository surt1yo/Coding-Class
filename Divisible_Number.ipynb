{
  "nbformat": 4,
  "nbformat_minor": 0,
  "metadata": {
    "colab": {
      "provenance": [],
      "authorship_tag": "ABX9TyNGU2Fca6L3NJTgnwXNzWhY",
      "include_colab_link": true
    },
    "kernelspec": {
      "name": "python3",
      "display_name": "Python 3"
    },
    "language_info": {
      "name": "python"
    }
  },
  "cells": [
    {
      "cell_type": "markdown",
      "metadata": {
        "id": "view-in-github",
        "colab_type": "text"
      },
      "source": [
        "<a href=\"https://colab.research.google.com/github/surt1yo/Coding-Class/blob/main/Divisible_Number.ipynb\" target=\"_parent\"><img src=\"https://colab.research.google.com/assets/colab-badge.svg\" alt=\"Open In Colab\"/></a>"
      ]
    },
    {
      "cell_type": "code",
      "execution_count": null,
      "metadata": {
        "id": "dR9_Qzmycsei"
      },
      "outputs": [],
      "source": [
        "while True:\n",
        "  numer=int(input(\"Enter a number(numerator):\"))\n",
        "  denom=int(input(\"Enter a number(denominator):\"))\n",
        "  if numer%denom==0:\n",
        "    print(\"The numerator\",str(numer),\"is divisible by\",str(denom))\n",
        "  else:\n",
        "    print(\"The numerator is not divisible\")"
      ]
    }
  ]
}
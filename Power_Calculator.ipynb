{
  "nbformat": 4,
  "nbformat_minor": 0,
  "metadata": {
    "colab": {
      "provenance": [],
      "authorship_tag": "ABX9TyNOHqbrF6eB22X5gNfBbcWT",
      "include_colab_link": true
    },
    "kernelspec": {
      "name": "python3",
      "display_name": "Python 3"
    },
    "language_info": {
      "name": "python"
    }
  },
  "cells": [
    {
      "cell_type": "markdown",
      "metadata": {
        "id": "view-in-github",
        "colab_type": "text"
      },
      "source": [
        "<a href=\"https://colab.research.google.com/github/surt1yo/Coding-Class/blob/main/Power_Calculator.ipynb\" target=\"_parent\"><img src=\"https://colab.research.google.com/assets/colab-badge.svg\" alt=\"Open In Colab\"/></a>"
      ]
    },
    {
      "cell_type": "code",
      "execution_count": 2,
      "metadata": {
        "colab": {
          "base_uri": "https://localhost:8080/"
        },
        "id": "3TUKEMGFbRmJ",
        "outputId": "00b4d292-b41d-4394-eb6c-7be0d4311142"
      },
      "outputs": [
        {
          "output_type": "stream",
          "name": "stdout",
          "text": [
            "Enter a number to be powered24\n",
            "Enter the power32\n",
            "The answer is: 146811384664566452713597726037899455366168576\n"
          ]
        }
      ],
      "source": [
        "while True:\n",
        "    num =int(input(\"Enter a number to be powered\"))\n",
        "    n_power=int(input(\"Enter the power\"))\n",
        "    result = num ** n_power\n",
        "    print(\"The answer is:\",result)"
      ]
    }
  ]
}
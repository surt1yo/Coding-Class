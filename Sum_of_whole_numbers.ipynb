{
  "nbformat": 4,
  "nbformat_minor": 0,
  "metadata": {
    "colab": {
      "provenance": [],
      "authorship_tag": "ABX9TyP1m9jdAH2Am36ey2ssrfhx",
      "include_colab_link": true
    },
    "kernelspec": {
      "name": "python3",
      "display_name": "Python 3"
    },
    "language_info": {
      "name": "python"
    }
  },
  "cells": [
    {
      "cell_type": "markdown",
      "metadata": {
        "id": "view-in-github",
        "colab_type": "text"
      },
      "source": [
        "<a href=\"https://colab.research.google.com/github/surt1yo/Coding-Class/blob/main/Sum_of_whole_numbers.ipynb\" target=\"_parent\"><img src=\"https://colab.research.google.com/assets/colab-badge.svg\" alt=\"Open In Colab\"/></a>"
      ]
    },
    {
      "cell_type": "code",
      "execution_count": 7,
      "metadata": {
        "colab": {
          "base_uri": "https://localhost:8080/"
        },
        "id": "O0t4q4cYqNoz",
        "outputId": "329a70e9-def4-48b2-9308-c8fe45942c0f"
      },
      "outputs": [
        {
          "output_type": "stream",
          "name": "stdout",
          "text": [
            "Enter a number whos sum you want to find:12\n",
            "\n",
            "Sum = 1\n",
            "\n",
            "Sum = 3\n",
            "\n",
            "Sum = 6\n",
            "\n",
            "Sum = 10\n",
            "\n",
            "Sum = 15\n",
            "\n",
            "Sum = 21\n",
            "\n",
            "Sum = 28\n",
            "\n",
            "Sum = 36\n",
            "\n",
            "Sum = 45\n",
            "\n",
            "Sum = 55\n",
            "\n",
            "Sum = 66\n",
            "\n",
            "Sum = 78\n"
          ]
        }
      ],
      "source": [
        "num=int(input(\"Enter a number whos sum you want to find:\"))\n",
        "sum=0\n",
        "for i in range(1,num+1):\n",
        "    sum=sum+i\n",
        "    print(\"\\nSum =\",sum)\n",
        ""
      ]
    }
  ]
}
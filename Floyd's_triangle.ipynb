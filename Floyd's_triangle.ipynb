{
  "cells": [
    {
      "cell_type": "markdown",
      "metadata": {
        "id": "view-in-github",
        "colab_type": "text"
      },
      "source": [
        "<a href=\"https://colab.research.google.com/github/surt1yo/Coding-Class/blob/main/Floyd's_triangle.ipynb\" target=\"_parent\"><img src=\"https://colab.research.google.com/assets/colab-badge.svg\" alt=\"Open In Colab\"/></a>"
      ]
    },
    {
      "cell_type": "code",
      "execution_count": null,
      "metadata": {
        "colab": {
          "background_save": true
        },
        "id": "FH7K5F8LuIl4"
      },
      "outputs": [],
      "source": [
        "num=int(input(\"Enter a number to start from: \"))\n",
        "rows=int(input(\"Enter the numbers of rows: \"))\n",
        "for i in range(1,rows+1):\n",
        "    for j in range (1,i+1):\n",
        "      print(num,end=\" \")\n",
        "      num+=1\n",
        "    print()"
      ]
    }
  ],
  "metadata": {
    "colab": {
      "provenance": [],
      "authorship_tag": "ABX9TyM2RP3seqKy/BTCubAcuojW",
      "include_colab_link": true
    },
    "kernelspec": {
      "display_name": "Python 3",
      "name": "python3"
    },
    "language_info": {
      "name": "python"
    }
  },
  "nbformat": 4,
  "nbformat_minor": 0
}
{
  "nbformat": 4,
  "nbformat_minor": 0,
  "metadata": {
    "colab": {
      "provenance": [],
      "authorship_tag": "ABX9TyNMIroMKTJJKClHScepdLLm",
      "include_colab_link": true
    },
    "kernelspec": {
      "name": "python3",
      "display_name": "Python 3"
    },
    "language_info": {
      "name": "python"
    }
  },
  "cells": [
    {
      "cell_type": "markdown",
      "metadata": {
        "id": "view-in-github",
        "colab_type": "text"
      },
      "source": [
        "<a href=\"https://colab.research.google.com/github/surt1yo/Coding-Class/blob/main/Mean_Values.ipynb\" target=\"_parent\"><img src=\"https://colab.research.google.com/assets/colab-badge.svg\" alt=\"Open In Colab\"/></a>"
      ]
    },
    {
      "cell_type": "code",
      "execution_count": null,
      "metadata": {
        "colab": {
          "base_uri": "https://localhost:8080/"
        },
        "id": "VY3zOE_phMTh",
        "outputId": "df08380f-b12b-4501-8406-5d0c30ac0be2"
      },
      "outputs": [
        {
          "output_type": "stream",
          "name": "stdout",
          "text": [
            "1520\n",
            "1540\n",
            "38.5\n"
          ]
        }
      ],
      "source": [
        "mean1=38\n",
        "wrong_num=36\n",
        "correct_num=56\n",
        "total_num=40\n",
        "#mean = sum of all number / total numbers\n",
        "sum_of_all_num=mean1*total_num\n",
        "print(sum_of_all_num)\n",
        "num2=sum_of_all_num-((wrong_num)-(correct_num))\n",
        "print(num2)\n",
        "mean2=num2/total_num\n",
        "print(mean2)"
      ]
    }
  ]
}
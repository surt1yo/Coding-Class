{
  "nbformat": 4,
  "nbformat_minor": 0,
  "metadata": {
    "colab": {
      "provenance": [],
      "authorship_tag": "ABX9TyO/KKLT7qewulzWzBPNUbx9",
      "include_colab_link": true
    },
    "kernelspec": {
      "name": "python3",
      "display_name": "Python 3"
    },
    "language_info": {
      "name": "python"
    }
  },
  "cells": [
    {
      "cell_type": "markdown",
      "metadata": {
        "id": "view-in-github",
        "colab_type": "text"
      },
      "source": [
        "<a href=\"https://colab.research.google.com/github/surt1yo/Coding-Class/blob/main/Character_occurrence.ipynb\" target=\"_parent\"><img src=\"https://colab.research.google.com/assets/colab-badge.svg\" alt=\"Open In Colab\"/></a>"
      ]
    },
    {
      "cell_type": "code",
      "execution_count": 4,
      "metadata": {
        "colab": {
          "base_uri": "https://localhost:8080/"
        },
        "id": "pY3xDtz_Zvhy",
        "outputId": "2455911c-3279-4b83-d073-c01adf1d92a8"
      },
      "outputs": [
        {
          "output_type": "stream",
          "name": "stdout",
          "text": [
            "Enter a sentence or word:hoiiiiiiiiiiiiiiiiiiiiiiiiiiiiiiiiiiiiiii\n",
            "Enter a letter:i\n",
            "39\n"
          ]
        }
      ],
      "source": [
        "sentence=str(input(\"Enter a sentence or word:\"))\n",
        "char=str(input(\"Enter a letter:\"))\n",
        "amount=sentence.count(char)\n",
        "i=0\n",
        "count=0\n",
        "while i < len(sentence):\n",
        "  if sentence [i] == char:\n",
        "    count=count+1\n",
        "  i=i+1\n",
        "print(count)\n",
        ""
      ]
    }
  ]
}
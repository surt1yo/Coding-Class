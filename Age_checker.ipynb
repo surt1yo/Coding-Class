{
  "nbformat": 4,
  "nbformat_minor": 0,
  "metadata": {
    "colab": {
      "provenance": [],
      "authorship_tag": "ABX9TyN+dQGiYsB+mXHQGrKOWybN",
      "include_colab_link": true
    },
    "kernelspec": {
      "name": "python3",
      "display_name": "Python 3"
    },
    "language_info": {
      "name": "python"
    }
  },
  "cells": [
    {
      "cell_type": "markdown",
      "metadata": {
        "id": "view-in-github",
        "colab_type": "text"
      },
      "source": [
        "<a href=\"https://colab.research.google.com/github/surt1yo/Coding-Class/blob/main/Age_checker.ipynb\" target=\"_parent\"><img src=\"https://colab.research.google.com/assets/colab-badge.svg\" alt=\"Open In Colab\"/></a>"
      ]
    },
    {
      "cell_type": "code",
      "execution_count": 2,
      "metadata": {
        "colab": {
          "base_uri": "https://localhost:8080/"
        },
        "id": "JmPuGK3gZaDP",
        "outputId": "b7e71c38-fb0b-4eca-9e24-680fd4bb4703"
      },
      "outputs": [
        {
          "output_type": "stream",
          "name": "stdout",
          "text": [
            "Welcome to Raj's class, please enter your age:\n",
            "24\n",
            "You are not able to take Raj's class.\n"
          ]
        }
      ],
      "source": [
        "print(\"Welcome to Raj's class, please enter your age:\")\n",
        "age=int(input())\n",
        "if age >=10 and age <=20:\n",
        "  print(\"You are able to take Raj's class.\")\n",
        "else:\n",
        "  print(\"Sorry, you are not able to take Raj's class.\")"
      ]
    }
  ]
}
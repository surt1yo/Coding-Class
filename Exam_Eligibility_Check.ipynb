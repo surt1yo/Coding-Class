{
  "nbformat": 4,
  "nbformat_minor": 0,
  "metadata": {
    "colab": {
      "provenance": [],
      "authorship_tag": "ABX9TyMy7m9ELJnlI8L6sVS6XI5u",
      "include_colab_link": true
    },
    "kernelspec": {
      "name": "python3",
      "display_name": "Python 3"
    },
    "language_info": {
      "name": "python"
    }
  },
  "cells": [
    {
      "cell_type": "markdown",
      "metadata": {
        "id": "view-in-github",
        "colab_type": "text"
      },
      "source": [
        "<a href=\"https://colab.research.google.com/github/surt1yo/Coding-Class/blob/main/Exam_Eligibility_Check.ipynb\" target=\"_parent\"><img src=\"https://colab.research.google.com/assets/colab-badge.svg\" alt=\"Open In Colab\"/></a>"
      ]
    },
    {
      "cell_type": "code",
      "execution_count": null,
      "metadata": {
        "colab": {
          "base_uri": "https://localhost:8080/"
        },
        "id": "eKTmpUughzfO",
        "outputId": "d5cb10a7-2acd-475c-c05b-e586c19ec91d"
      },
      "outputs": [
        {
          "output_type": "stream",
          "name": "stdout",
          "text": [
            "Welcome to the exam!\n",
            "Please enter the following questions truthfully:\n",
            "Do you have a medical cause? Y or N:N\n",
            "What is your attendence24\n",
            "You are not allowed to take the exam.\n"
          ]
        }
      ],
      "source": [
        "print(\"Welcome to the exam!\")\n",
        "print(\"Please enter the following questions truthfully:\")\n",
        "med=str(input(\"Do you have a medical cause? Y or N:\"))\n",
        "atten=int(input(\"What is your attendence\"))\n",
        "if med==\"Y\":\n",
        "  print(\"You are allowed to take the exam.\")\n",
        "else:\n",
        "  if atten >= 75:\n",
        "    print(\"You are allowed to take the exam.\")\n",
        "  else:\n",
        "    print(\"You are not allowed to take the exam.\")\n"
      ]
    }
  ]
}
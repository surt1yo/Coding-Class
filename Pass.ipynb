{
  "nbformat": 4,
  "nbformat_minor": 0,
  "metadata": {
    "colab": {
      "provenance": [],
      "authorship_tag": "ABX9TyMWNLkqZ0/M6D3LLiSOK5Mo",
      "include_colab_link": true
    },
    "kernelspec": {
      "name": "python3",
      "display_name": "Python 3"
    },
    "language_info": {
      "name": "python"
    }
  },
  "cells": [
    {
      "cell_type": "markdown",
      "metadata": {
        "id": "view-in-github",
        "colab_type": "text"
      },
      "source": [
        "<a href=\"https://colab.research.google.com/github/surt1yo/Coding-Class/blob/main/Pass.ipynb\" target=\"_parent\"><img src=\"https://colab.research.google.com/assets/colab-badge.svg\" alt=\"Open In Colab\"/></a>"
      ]
    },
    {
      "cell_type": "code",
      "execution_count": 2,
      "metadata": {
        "colab": {
          "base_uri": "https://localhost:8080/"
        },
        "id": "jooAtt706eR4",
        "outputId": "298d791a-a4da-46d0-efe2-9844bdad4ca9"
      },
      "outputs": [
        {
          "output_type": "stream",
          "name": "stdout",
          "text": [
            "Enter a number: 100\n",
            "Twist\n",
            "100\n",
            "100\n",
            "buzz\n",
            "100\n",
            "fizz\n",
            "buzz\n",
            "100\n",
            "100\n",
            "buzz\n"
          ]
        }
      ],
      "source": [
        "num=int(input(\"Enter a number: \"))\n",
        "for i in range(10):\n",
        " if i %20==0:\n",
        "  print(\"Twist\")\n",
        " elif i %15==0:\n",
        "  pass\n",
        " elif i%5==0:\n",
        "  print(\"fizz\")\n",
        " elif i%3==0:\n",
        "  print(\"buzz\")\n",
        " else:\n",
        "  print(num)"
      ]
    }
  ]
}
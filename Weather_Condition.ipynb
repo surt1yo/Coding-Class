{
  "nbformat": 4,
  "nbformat_minor": 0,
  "metadata": {
    "colab": {
      "provenance": [],
      "authorship_tag": "ABX9TyM15iewam3ps0D3Py5V9xb3",
      "include_colab_link": true
    },
    "kernelspec": {
      "name": "python3",
      "display_name": "Python 3"
    },
    "language_info": {
      "name": "python"
    }
  },
  "cells": [
    {
      "cell_type": "markdown",
      "metadata": {
        "id": "view-in-github",
        "colab_type": "text"
      },
      "source": [
        "<a href=\"https://colab.research.google.com/github/surt1yo/Coding-Class/blob/main/Weather_Condition.ipynb\" target=\"_parent\"><img src=\"https://colab.research.google.com/assets/colab-badge.svg\" alt=\"Open In Colab\"/></a>"
      ]
    },
    {
      "cell_type": "code",
      "execution_count": 1,
      "metadata": {
        "colab": {
          "base_uri": "https://localhost:8080/"
        },
        "id": "ptjhE14ORAmw",
        "outputId": "116b1b4b-e192-487c-82ef-b4b0d2c499de"
      },
      "outputs": [
        {
          "output_type": "stream",
          "name": "stdout",
          "text": [
            "The weather is rainy today\n",
            "The weather is windy today\n"
          ]
        }
      ],
      "source": [
        "def weather_condition():\n",
        "  print(\"The weather is rainy today\")\n",
        "  print(\"The weather is windy today\")\n",
        "weather_condition()"
      ]
    }
  ]
}
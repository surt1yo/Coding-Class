{
  "nbformat": 4,
  "nbformat_minor": 0,
  "metadata": {
    "colab": {
      "provenance": [],
      "authorship_tag": "ABX9TyMVNnFdCfStI+CTjZJKtl4C",
      "include_colab_link": true
    },
    "kernelspec": {
      "name": "python3",
      "display_name": "Python 3"
    },
    "language_info": {
      "name": "python"
    }
  },
  "cells": [
    {
      "cell_type": "markdown",
      "metadata": {
        "id": "view-in-github",
        "colab_type": "text"
      },
      "source": [
        "<a href=\"https://colab.research.google.com/github/surt1yo/Coding-Class/blob/main/Circumference_of_circle.ipynb\" target=\"_parent\"><img src=\"https://colab.research.google.com/assets/colab-badge.svg\" alt=\"Open In Colab\"/></a>"
      ]
    },
    {
      "cell_type": "code",
      "execution_count": 1,
      "metadata": {
        "colab": {
          "base_uri": "https://localhost:8080/"
        },
        "id": "iWZrrGzaaaps",
        "outputId": "f0386e31-6997-4c2d-97a6-c6747f68d60f"
      },
      "outputs": [
        {
          "output_type": "stream",
          "name": "stdout",
          "text": [
            "Enter radius of circle: 987\n",
            "Circumference of circle is: 6201.503898186252\n"
          ]
        }
      ],
      "source": [
        "import math\n",
        "\n",
        "def circumference(radius):\n",
        "    return 2 * math.pi * radius\n",
        "\n",
        "radius = float(input(\"Enter radius of circle: \"))\n",
        "print(\"Circumference of circle is:\", circumference(radius))\n"
      ]
    }
  ]
}
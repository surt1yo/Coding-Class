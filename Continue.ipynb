{
  "nbformat": 4,
  "nbformat_minor": 0,
  "metadata": {
    "colab": {
      "provenance": [],
      "authorship_tag": "ABX9TyO2QhA6jUKZmRWMLKq2S7vK",
      "include_colab_link": true
    },
    "kernelspec": {
      "name": "python3",
      "display_name": "Python 3"
    },
    "language_info": {
      "name": "python"
    }
  },
  "cells": [
    {
      "cell_type": "markdown",
      "metadata": {
        "id": "view-in-github",
        "colab_type": "text"
      },
      "source": [
        "<a href=\"https://colab.research.google.com/github/surt1yo/Coding-Class/blob/main/Continue.ipynb\" target=\"_parent\"><img src=\"https://colab.research.google.com/assets/colab-badge.svg\" alt=\"Open In Colab\"/></a>"
      ]
    },
    {
      "cell_type": "code",
      "execution_count": 11,
      "metadata": {
        "colab": {
          "base_uri": "https://localhost:8080/"
        },
        "id": "ldQtOVA38Yfy",
        "outputId": "020e0c7c-637e-40b1-8380-d7cd4eccc133"
      },
      "outputs": [
        {
          "output_type": "stream",
          "name": "stdout",
          "text": [
            "Current variable value:  10\n",
            "Current variable value:  9\n",
            "Current variable value:  8\n",
            "Current variable value:  7\n",
            "Current variable value:  6\n",
            "Current variable value:  4\n",
            "Current variable value:  3\n",
            "Current variable value:  2\n",
            "Current variable value:  1\n",
            "Current variable value:  0\n"
          ]
        }
      ],
      "source": [
        "var=11\n",
        "while var>0:\n",
        "    var=var-1\n",
        "    if var == 5:\n",
        "      continue\n",
        "    print(\"Current variable value: \",var)\n"
      ]
    }
  ]
}
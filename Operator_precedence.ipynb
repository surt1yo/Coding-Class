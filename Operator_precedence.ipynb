{
  "nbformat": 4,
  "nbformat_minor": 0,
  "metadata": {
    "colab": {
      "provenance": [],
      "authorship_tag": "ABX9TyOOagDfpVUhvW78oZQ4lyFA",
      "include_colab_link": true
    },
    "kernelspec": {
      "name": "python3",
      "display_name": "Python 3"
    },
    "language_info": {
      "name": "python"
    }
  },
  "cells": [
    {
      "cell_type": "markdown",
      "metadata": {
        "id": "view-in-github",
        "colab_type": "text"
      },
      "source": [
        "<a href=\"https://colab.research.google.com/github/surt1yo/Coding-Class/blob/main/Operator_precedence.ipynb\" target=\"_parent\"><img src=\"https://colab.research.google.com/assets/colab-badge.svg\" alt=\"Open In Colab\"/></a>"
      ]
    },
    {
      "cell_type": "code",
      "execution_count": null,
      "metadata": {
        "colab": {
          "base_uri": "https://localhost:8080/"
        },
        "id": "t3SxBq1mYcf7",
        "outputId": "060091d1-0b87-4eec-fa4a-96cda4ed1523"
      },
      "outputs": [
        {
          "output_type": "stream",
          "name": "stdout",
          "text": [
            "The value of (v+w)*x/y is: 36.0\n",
            "hello welome\n"
          ]
        }
      ],
      "source": [
        "v=4\n",
        "w=5\n",
        "x=8\n",
        "y=2\n",
        "z=0\n",
        "z=(v+w)*x/y\n",
        "print(\"The value of (v+w)*x/y is:\", z)\n",
        "name=\"alex\"\n",
        "age=0\n",
        "if name == \"alex\" or name == \"john\" and age >=2:\n",
        "  print(\"hello welcome\")\n",
        "else:\n",
        "  print(\"goodbye\")\n"
      ]
    }
  ]
}
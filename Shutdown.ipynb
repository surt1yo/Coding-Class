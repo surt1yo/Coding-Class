{
  "nbformat": 4,
  "nbformat_minor": 0,
  "metadata": {
    "colab": {
      "provenance": [],
      "authorship_tag": "ABX9TyMjC/QYQVNkWN4Wp242mW9j",
      "include_colab_link": true
    },
    "kernelspec": {
      "name": "python3",
      "display_name": "Python 3"
    },
    "language_info": {
      "name": "python"
    }
  },
  "cells": [
    {
      "cell_type": "markdown",
      "metadata": {
        "id": "view-in-github",
        "colab_type": "text"
      },
      "source": [
        "<a href=\"https://colab.research.google.com/github/surt1yo/Coding-Class/blob/main/Shutdown.ipynb\" target=\"_parent\"><img src=\"https://colab.research.google.com/assets/colab-badge.svg\" alt=\"Open In Colab\"/></a>"
      ]
    },
    {
      "cell_type": "code",
      "execution_count": 6,
      "metadata": {
        "colab": {
          "base_uri": "https://localhost:8080/"
        },
        "id": "oJGYhfLc1Oli",
        "outputId": "093783c2-7490-42ae-ff9f-188a0fcc0ab1"
      },
      "outputs": [
        {
          "output_type": "stream",
          "name": "stdout",
          "text": [
            "Do you with to shut down?\n",
            " Yes or no: yes\n",
            "shutting down\n"
          ]
        }
      ],
      "source": [
        "while True:\n",
        "  def shutdown(user_input):\n",
        "      if user_input == \"yes\":\n",
        "          print(\"shutting down\")\n",
        "      elif user_input == \"no\":\n",
        "          print(\"abortting shut down\")\n",
        "      else:\n",
        "          print(\"sorry, please try again.\")\n",
        "  user_response = input(\"Do you with to shut down?\\n Yes or no: \")\n",
        "  shutdown(user_response)\n"
      ]
    }
  ]
}
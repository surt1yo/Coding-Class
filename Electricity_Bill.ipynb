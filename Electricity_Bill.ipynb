{
  "nbformat": 4,
  "nbformat_minor": 0,
  "metadata": {
    "colab": {
      "provenance": [],
      "authorship_tag": "ABX9TyOoBOQl3rCuXjod8bqpzHe+",
      "include_colab_link": true
    },
    "kernelspec": {
      "name": "python3",
      "display_name": "Python 3"
    },
    "language_info": {
      "name": "python"
    }
  },
  "cells": [
    {
      "cell_type": "markdown",
      "metadata": {
        "id": "view-in-github",
        "colab_type": "text"
      },
      "source": [
        "<a href=\"https://colab.research.google.com/github/surt1yo/Coding-Class/blob/main/Electricity_Bill.ipynb\" target=\"_parent\"><img src=\"https://colab.research.google.com/assets/colab-badge.svg\" alt=\"Open In Colab\"/></a>"
      ]
    },
    {
      "cell_type": "code",
      "execution_count": 3,
      "metadata": {
        "colab": {
          "base_uri": "https://localhost:8080/"
        },
        "id": "-Iq_FbCvnNu0",
        "outputId": "935ed3d0-b224-4e28-a5a1-f62b9f8ca7a8"
      },
      "outputs": [
        {
          "output_type": "stream",
          "name": "stdout",
          "text": [
            "Please enter the number of units you consume:75\n",
            "246.25\n"
          ]
        }
      ],
      "source": [
        "unit=int(input(\"Please enter the number of units you consume:\"))\n",
        "if(unit < 50):\n",
        "  per_unit_cost=2.60\n",
        "  amount= unit * per_unit_cost\n",
        "  tax = 25\n",
        "elif (50 <= unit < 100):\n",
        "  per_unit_cost=3.25\n",
        "  amount=130+(unit-50)*per_unit_cost\n",
        "  tax = 35\n",
        "elif (100 <= unit < 200):\n",
        "  per_unit_cost=5.26\n",
        "  amount=130+162.50+(unit-100)*per_unit_cost\n",
        "  tax = 45\n",
        "else:\n",
        "  per_unit_cost = 8.45\n",
        "  amount=130+162.50+526+(unit-200)*per_unit_cost\n",
        "  tax = 75\n",
        "\n",
        "bill = amount + tax\n",
        "print(bill)"
      ]
    }
  ]
}
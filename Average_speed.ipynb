{
  "nbformat": 4,
  "nbformat_minor": 0,
  "metadata": {
    "colab": {
      "provenance": [],
      "authorship_tag": "ABX9TyNFKkiAo/ZA6EYjNwMQihwS",
      "include_colab_link": true
    },
    "kernelspec": {
      "name": "python3",
      "display_name": "Python 3"
    },
    "language_info": {
      "name": "python"
    }
  },
  "cells": [
    {
      "cell_type": "markdown",
      "metadata": {
        "id": "view-in-github",
        "colab_type": "text"
      },
      "source": [
        "<a href=\"https://colab.research.google.com/github/surt1yo/Coding-Class/blob/main/Average_speed.ipynb\" target=\"_parent\"><img src=\"https://colab.research.google.com/assets/colab-badge.svg\" alt=\"Open In Colab\"/></a>"
      ]
    },
    {
      "cell_type": "code",
      "execution_count": null,
      "metadata": {
        "id": "KFdBVcIglRMW"
      },
      "outputs": [],
      "source": [
        "a = int(input(\"Enter value 1: \"))\n",
        "b = int(input(\"Enter value 2: \"))\n",
        "c = int(input(\"Enter value 3: \"))\n",
        "\n",
        "avg = (a + b + c) / 3\n",
        "print(\"avg =\", avg)\n",
        "\n",
        "if avg > a and avg > b and avg > c:\n",
        "    print(\"%d is higher than \" %(avg, a, b, c))\n",
        "elif avg > a and avg > b:\n",
        "    print(\"%d is higher than %d, %d\" %(avg, a, b))\n",
        "elif avg > a and avg > c:\n",
        "    print(\"%d is higher than %d, %d\" %(avg, a, c))\n",
        "elif avg > b and avg > c:\n",
        "    print(\"%d is higher than %d, %d\" %(avg, b, c))\n",
        "elif avg > a:\n",
        "    print(\"%d is just higher than %d\" %(avg, a))\n",
        "elif avg > b:\n",
        "    print(\"%d is just higher than %d\" %(avg, b))\n",
        "elif avg > c:\n",
        "    print(\"%d is just higher than %d\" %(avg, c))\n",
        "else:\n",
        "  print(\"invalid input\")"
      ]
    }
  ]
}
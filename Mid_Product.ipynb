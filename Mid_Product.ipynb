{
  "nbformat": 4,
  "nbformat_minor": 0,
  "metadata": {
    "colab": {
      "provenance": [],
      "authorship_tag": "ABX9TyNShp7bVAszW0yEQJGXTRVd",
      "include_colab_link": true
    },
    "kernelspec": {
      "name": "python3",
      "display_name": "Python 3"
    },
    "language_info": {
      "name": "python"
    }
  },
  "cells": [
    {
      "cell_type": "markdown",
      "metadata": {
        "id": "view-in-github",
        "colab_type": "text"
      },
      "source": [
        "<a href=\"https://colab.research.google.com/github/surt1yo/Coding-Class/blob/main/Mid_Product.ipynb\" target=\"_parent\"><img src=\"https://colab.research.google.com/assets/colab-badge.svg\" alt=\"Open In Colab\"/></a>"
      ]
    },
    {
      "cell_type": "code",
      "execution_count": 3,
      "metadata": {
        "colab": {
          "base_uri": "https://localhost:8080/"
        },
        "id": "SD4fDekziJZs",
        "outputId": "dc4404ad-5d55-4c85-cdf0-51a36a65b403"
      },
      "outputs": [
        {
          "output_type": "stream",
          "name": "stdout",
          "text": [
            "Enter a number:2494656\n",
            "24\n"
          ]
        }
      ],
      "source": [
        "num=int(input(\"Enter a number:\"))\n",
        "t=num\n",
        "numlen = 0\n",
        "while t> 0:\n",
        "  numlen= numlen+1\n",
        "  t=int(t/10)\n",
        "if numlen >= 4:\n",
        "  numlen = int(numlen/2)\n",
        "  chk= 0\n",
        "  while num > 0:\n",
        "    rem= num % 10\n",
        "    if chk ==  numlen:\n",
        "      midOne = rem\n",
        "    elif chk ==(numlen-1):\n",
        "      midTwo = rem\n",
        "    num=int(num/10)\n",
        "    chk=chk+1\n",
        "  prod = midOne * midTwo\n",
        "  print(prod)\n",
        "else:\n",
        "  print(\"Not a 4 or more than 4 digit number.\")"
      ]
    }
  ]
}
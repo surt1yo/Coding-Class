{
  "nbformat": 4,
  "nbformat_minor": 0,
  "metadata": {
    "colab": {
      "provenance": [],
      "authorship_tag": "ABX9TyNPFM6nUxMCXaC4jOYA56+b",
      "include_colab_link": true
    },
    "kernelspec": {
      "name": "python3",
      "display_name": "Python 3"
    },
    "language_info": {
      "name": "python"
    }
  },
  "cells": [
    {
      "cell_type": "markdown",
      "metadata": {
        "id": "view-in-github",
        "colab_type": "text"
      },
      "source": [
        "<a href=\"https://colab.research.google.com/github/surt1yo/Coding-Class/blob/main/Prime_number_identifier.ipynb\" target=\"_parent\"><img src=\"https://colab.research.google.com/assets/colab-badge.svg\" alt=\"Open In Colab\"/></a>"
      ]
    },
    {
      "cell_type": "code",
      "execution_count": 8,
      "metadata": {
        "colab": {
          "base_uri": "https://localhost:8080/"
        },
        "id": "Sv7-yUTNfgHu",
        "outputId": "56c1b613-5ea6-4ddd-b76b-e57781e16171"
      },
      "outputs": [
        {
          "output_type": "stream",
          "name": "stdout",
          "text": [
            "Enter the lower range:45\n",
            "Enter the upper range:50\n",
            "The prime numbers between 45 and 50 are:\n",
            "47\n"
          ]
        }
      ],
      "source": [
        "lower=int(input(\"Enter the lower range:\"))\n",
        "upper=int(input(\"Enter the upper range:\"))\n",
        "print(\"The prime numbers between\",lower,\"and\",upper,\"are:\")\n",
        "for num in range(lower,upper+1):\n",
        "  if num >1:\n",
        "    for i in range(2,num):\n",
        "     if (num % i) == 0:\n",
        "      break\n",
        "    else:\n",
        "      print(num)\n",
        "\n",
        ""
      ]
    }
  ]
}
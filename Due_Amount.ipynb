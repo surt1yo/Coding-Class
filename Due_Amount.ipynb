{
  "nbformat": 4,
  "nbformat_minor": 0,
  "metadata": {
    "colab": {
      "provenance": [],
      "authorship_tag": "ABX9TyOs2CNopVGHDeGpMsG5MY0n",
      "include_colab_link": true
    },
    "kernelspec": {
      "name": "python3",
      "display_name": "Python 3"
    },
    "language_info": {
      "name": "python"
    }
  },
  "cells": [
    {
      "cell_type": "markdown",
      "metadata": {
        "id": "view-in-github",
        "colab_type": "text"
      },
      "source": [
        "<a href=\"https://colab.research.google.com/github/surt1yo/Coding-Class/blob/main/Due_Amount.ipynb\" target=\"_parent\"><img src=\"https://colab.research.google.com/assets/colab-badge.svg\" alt=\"Open In Colab\"/></a>"
      ]
    },
    {
      "cell_type": "code",
      "execution_count": null,
      "metadata": {
        "id": "OABprwFh_93S"
      },
      "outputs": [],
      "source": [
        "bill_amount = float(input(\"Enter the bill amount: \"))\n",
        "amount_paid = float(input(\"Enter the amount paid: \"))\n",
        "due_amount = bill_amount - amount_paid\n",
        "if due_amount > 0:\n",
        "    print(f\"Customer still owes: ${due_amount:.2f}\")\n",
        "elif due_amount < 0:\n",
        "    print(f\"Customer should receive change: ${-due_amount:.2f}\")\n",
        "else:\n",
        "    print(\"Customer has paid the exact amount.\")\n"
      ]
    }
  ]
}
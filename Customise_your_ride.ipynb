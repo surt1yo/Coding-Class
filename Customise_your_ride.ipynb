{
  "nbformat": 4,
  "nbformat_minor": 0,
  "metadata": {
    "colab": {
      "provenance": [],
      "authorship_tag": "ABX9TyOs2y4DUUnKGnZVA0eSNkqu",
      "include_colab_link": true
    },
    "kernelspec": {
      "name": "python3",
      "display_name": "Python 3"
    },
    "language_info": {
      "name": "python"
    }
  },
  "cells": [
    {
      "cell_type": "markdown",
      "metadata": {
        "id": "view-in-github",
        "colab_type": "text"
      },
      "source": [
        "<a href=\"https://colab.research.google.com/github/surt1yo/Coding-Class/blob/main/Customise_your_ride.ipynb\" target=\"_parent\"><img src=\"https://colab.research.google.com/assets/colab-badge.svg\" alt=\"Open In Colab\"/></a>"
      ]
    },
    {
      "cell_type": "code",
      "execution_count": 4,
      "metadata": {
        "colab": {
          "base_uri": "https://localhost:8080/"
        },
        "id": "D6I1owB1sRTj",
        "outputId": "c74e8fcd-cf3a-47b1-9fdf-3b257ef77cd8"
      },
      "outputs": [
        {
          "output_type": "stream",
          "name": "stdout",
          "text": [
            "Select your ride:\n",
            "1. Bike\n",
            "2. Car\n",
            "Enter your choice:2\n",
            "You have selected car\n",
            "What type of car?\n",
            "1. BMW\n",
            "2. Audi\n",
            "3. Range Rover\n",
            "4. Mercedes\n",
            "5. Toyota\n",
            "6. Nissan\n",
            "7. Honda\n",
            "8. Ford\n",
            "3\n",
            "Congrats on your car!\n"
          ]
        }
      ],
      "source": [
        "print(\"Select your ride:\")\n",
        "print(\"1. Bike\")\n",
        "print(\"2. Car\")\n",
        "choice=int(input(\"Enter your choice:\").strip('.'))\n",
        "if choice==1:\n",
        "    print(\"You have selected bike\")\n",
        "    print(\"What type of bike?\")\n",
        "    print(\"1. Scooti\")\n",
        "    print(\"2. Scooter\")\n",
        "    bike=int(input())\n",
        "    print(\"Congrats on your bike!\")\n",
        "elif choice==2:\n",
        "    print(\"You have selected car\")\n",
        "    print(\"What type of car?\")\n",
        "    print(\"1. BMW\")\n",
        "    print(\"2. Audi\")\n",
        "    print(\"3. Range Rover\")\n",
        "    print(\"4. Mercedes\")\n",
        "    print(\"5. Toyota\")\n",
        "    print(\"6. Nissan\")\n",
        "    print(\"7. Honda\")\n",
        "    print(\"8. Ford\")\n",
        "    car=int(input())\n",
        "    print(\"Congrats on your car!\")\n",
        "else:\n",
        "    print(\"Invalid choice\")"
      ]
    }
  ]
}